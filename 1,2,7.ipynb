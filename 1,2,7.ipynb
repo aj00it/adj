{
 "cells": [
  {
   "cell_type": "code",
   "execution_count": null,
   "id": "61dbd61e",
   "metadata": {},
   "outputs": [],
   "source": [
    "#1\n",
    "def linearSearch(array,n,x):\n",
    "    for i in range(0,n):\n",
    "        if(array[i] == x):\n",
    "            return i\n",
    "        return -1\n",
    "array=[2,3,4,5,6]\n",
    "x=eval(input(\"enter the number to be searched: \"))\n",
    "n=len(array)\n",
    "result=linearSearch(array,n,x)\n",
    "if(result==-1):\n",
    "    print(\"Element not found\")\n",
    "else:\n",
    "    print(\"element found at index :\",result)\n",
    "            \n",
    "    "
   ]
  },
  {
   "cell_type": "code",
   "execution_count": 31,
   "id": "d2c18d82",
   "metadata": {},
   "outputs": [
    {
     "name": "stdout",
     "output_type": "stream",
     "text": [
      "printing array\n",
      "[[1 2 3]\n",
      " [4 5 6]\n",
      " [7 8 9]]\n",
      "printing numpy array attributes\n",
      "1) array dimension: 2\n",
      "2) array shape: (3, 3)\n",
      "3)array size: 9\n",
      "4) array data type: int32\n",
      "5) the length of each array item in bytes is: 4\n"
     ]
    }
   ],
   "source": [
    "import numpy as np\n",
    "a=np.array([[1,2,3], [4,5,6], [7,8,9]])\n",
    "print(\"printing array\")\n",
    "print(a)\n",
    "print(\"printing numpy array attributes\")\n",
    "print(\"1) array dimension:\",a.ndim)\n",
    "print(\"2) array shape:\",a.shape)\n",
    "print(\"3)array size:\",a.size)\n",
    "print(\"4) array data type:\",a.dtype)\n",
    "print(\"5) the length of each array item in bytes is:\",a.itemsize)"
   ]
  },
  {
   "cell_type": "code",
   "execution_count": 29,
   "id": "57683394",
   "metadata": {},
   "outputs": [
    {
     "name": "stdout",
     "output_type": "stream",
     "text": [
      "enter the value to be inserted1\n",
      "[1, 1, 2, 4]\n"
     ]
    }
   ],
   "source": [
    "#2\n",
    "import bisect\n",
    "def insert(list,n):\n",
    "    bisect.insort(list,n)\n",
    "    return list\n",
    "list=[1,2,4]\n",
    "n=eval(input(\"enter the value to be inserted\"))\n",
    "print(insert(list,n))"
   ]
  },
  {
   "cell_type": "code",
   "execution_count": 23,
   "id": "1c55bae5",
   "metadata": {},
   "outputs": [
    {
     "name": "stdout",
     "output_type": "stream",
     "text": [
      "enter the value to be inserted: 11\n",
      "[1, 2, 3, 4, 11]\n"
     ]
    }
   ],
   "source": [
    "import bisect\n",
    "def insert(list,n):\n",
    "    bisect.insort(list,n)\n",
    "    return list\n",
    "list=[1,2,3,4]\n",
    "n=eval(input(\"enter the value to be inserted: \"))\n",
    "print(insert(list,n))"
   ]
  },
  {
   "cell_type": "code",
   "execution_count": 36,
   "id": "803ef225",
   "metadata": {},
   "outputs": [
    {
     "name": "stdout",
     "output_type": "stream",
     "text": [
      "printing attribute\n",
      "[[1 2 3]\n",
      " [4 5 6]\n",
      " [7 8 9]]\n",
      "printing numpy array attribute\n",
      "1)array dimension 2\n",
      "2)array size 9\n",
      "3)array shape (3, 3)\n",
      "4)array data type int32\n"
     ]
    }
   ],
   "source": [
    "import numpy as np\n",
    "a=np.array([[1,2,3],[4,5,6],[7,8,9]])\n",
    "print(\"printing attribute\")\n",
    "print(a)\n",
    "print(\"printing numpy array attribute\")\n",
    "print(\"1)array dimension\",a.ndim)\n",
    "print(\"2)array size\",a.size)\n",
    "print(\"3)array shape\",a.shape)\n",
    "print(\"4)array data type\",a.dtype)\n",
    "#print(\"5)iteam in bytes\",a.itemsize)"
   ]
  },
  {
   "cell_type": "code",
   "execution_count": null,
   "id": "9e153590",
   "metadata": {},
   "outputs": [],
   "source": []
  }
 ],
 "metadata": {
  "kernelspec": {
   "display_name": "Python 3 (ipykernel)",
   "language": "python",
   "name": "python3"
  },
  "language_info": {
   "codemirror_mode": {
    "name": "ipython",
    "version": 3
   },
   "file_extension": ".py",
   "mimetype": "text/x-python",
   "name": "python",
   "nbconvert_exporter": "python",
   "pygments_lexer": "ipython3",
   "version": "3.9.13"
  }
 },
 "nbformat": 4,
 "nbformat_minor": 5
}
