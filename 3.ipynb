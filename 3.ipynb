{
 "cells": [
  {
   "cell_type": "code",
   "execution_count": 3,
   "id": "6b38d366",
   "metadata": {},
   "outputs": [
    {
     "name": "stdout",
     "output_type": "stream",
     "text": [
      "the value are\n",
      "a=10 b=20\n",
      "the value are\n",
      "a=10 b=20\n",
      "\n",
      " sum of two objects: 80\n"
     ]
    }
   ],
   "source": [
    "\n",
    "class Base:\n",
    "    def __init__(self):\n",
    "        self.a= 10\n",
    "        self._b= 20\n",
    "        \n",
    "    def display(self):\n",
    "        print(\"the value are\")\n",
    "        print(f\"a={self.a} b={self._b}\")\n",
    "class Derived(Base):\n",
    "    def __init__(self):\n",
    "        Base._init_(self)\n",
    "        self.d = 30\n",
    "        def display(self):\n",
    "            Base.display(self)\n",
    "            print(f\"d={self.d}\")\n",
    "    def __add__(self, ob):\n",
    "        return self.a + ob.a+self.d +ob.d\n",
    "    obj1 = Base()\n",
    "    obj2 = Derived()\n",
    "    obj3 = Derived()\n",
    "    obj2.display()\n",
    "    obj3.display()\n",
    "    print(\"\\n sum of two objects:\",obj2 + obj3)\n",
    "    "
   ]
  },
  {
   "cell_type": "code",
   "execution_count": 1,
   "id": "e2e7e763",
   "metadata": {},
   "outputs": [
    {
     "name": "stdout",
     "output_type": "stream",
     "text": [
      "the value are\n",
      "a=10 b=20\n",
      "the value are\n",
      "a=10 b=20\n",
      "\n",
      " sum of two objects: 80\n"
     ]
    }
   ],
   "source": [
    "class Base:\n",
    "    def __init__(self):\n",
    "        self.a= 10\n",
    "        self._b= 20\n",
    "        \n",
    "    def display(self):\n",
    "        print(\"the value are\")\n",
    "        print(f\"a={self.a} b={self._b}\")\n",
    "class Derived(Base):\n",
    "    def __init__(self):\n",
    "        Base.__init__(self)\n",
    "        self.d = 30\n",
    "        def display(self):\n",
    "            Base.display(self)\n",
    "            print(f\"d={self.d}\")\n",
    "    def __add__(self, ob):\n",
    "        return self.a + ob.a+self.d +ob.d\n",
    "obj1 = Base()\n",
    "obj2 = Derived()\n",
    "obj3 = Derived()\n",
    "obj2.display()\n",
    "obj3.display()\n",
    "print(\"\\n sum of two objects:\",obj2 + obj3)"
   ]
  },
  {
   "cell_type": "code",
   "execution_count": 4,
   "id": "cecc1351",
   "metadata": {},
   "outputs": [
    {
     "name": "stdout",
     "output_type": "stream",
     "text": [
      "the value are\n",
      "a=10 b=20\n",
      "the value are\n",
      "a=10 b=20\n",
      "\n",
      " sum of two objects: 80\n"
     ]
    }
   ],
   "source": [
    "\n",
    "class Base:\n",
    "    def __init__(self):\n",
    "        self.a= 10\n",
    "        self._b= 20\n",
    "        \n",
    "    def display(self):\n",
    "        print(\"the value are\")\n",
    "        print(f\"a={self.a} b={self._b}\")\n",
    "class Derived(Base):\n",
    "    def __init__(self):\n",
    "        Base.__init__(self)\n",
    "        self.d = 30\n",
    "        def display(self):\n",
    "            Base.display(self)\n",
    "            print(f\"d={self.d}\")\n",
    "    def __add__(self, ob):\n",
    "        return self.a + ob.a+self.d +ob.d\n",
    "obj1 = Base()\n",
    "obj2 = Derived()\n",
    "obj3 = Derived()\n",
    "obj2.display()\n",
    "obj3.display()\n",
    "print(\"\\n sum of two objects:\",obj2 + obj3)"
   ]
  },
  {
   "cell_type": "code",
   "execution_count": null,
   "id": "0eadd1c7",
   "metadata": {},
   "outputs": [],
   "source": []
  }
 ],
 "metadata": {
  "kernelspec": {
   "display_name": "Python 3 (ipykernel)",
   "language": "python",
   "name": "python3"
  },
  "language_info": {
   "codemirror_mode": {
    "name": "ipython",
    "version": 3
   },
   "file_extension": ".py",
   "mimetype": "text/x-python",
   "name": "python",
   "nbconvert_exporter": "python",
   "pygments_lexer": "ipython3",
   "version": "3.9.13"
  }
 },
 "nbformat": 4,
 "nbformat_minor": 5
}
